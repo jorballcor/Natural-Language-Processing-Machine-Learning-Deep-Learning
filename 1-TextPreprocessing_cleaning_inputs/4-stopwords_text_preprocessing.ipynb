{
 "cells": [
  {
   "cell_type": "markdown",
   "metadata": {},
   "source": [
    "# Stopwords Removal - Text Preprocessing\n",
    "\n",
    "**Goal**: This notebook explains the process of identifying and removing stopwords from text. Stopwords are commonly used words (e.g., \"the,\" \"and,\" \"is\") that typically do not contribute meaningful information in NLP tasks.\n",
    "\n",
    "**Context**: Removing stopwords is a common preprocessing step that helps in improving the efficiency and accuracy of NLP models by reducing the noise in the text data. This notebook provides an overview of stopwords, explains why they are removed, and demonstrates how to implement stopword removal using various libraries.\n"
   ]
  },
  {
   "cell_type": "code",
   "execution_count": 1,
   "metadata": {},
   "outputs": [],
   "source": [
    "#Charles Chaplin, discurso de \"El gran dictador\"\n",
    "corpus = \"\"\"Lo siento. \n",
    "Pero yo no quiero ser emperador. Ese no es mi oficio, sino ayudar a todos  si  fuera  posible.  Blancos  o  negros.  Judíos  o  gentiles.  Tenemos  que  ayudarnos los  unos a los  otros; los  seres  humanos  somos así. Queremos  hacer felices a los demás, no hacernos desgraciados. No queremos odiar ni  ayudar a  nadie. En este mundo  hay  sitio  para  todos  y  la  buena  tierra es  rica y  puede alimentar a  todos los  seres. El  camino  de la vida  puede  ser  libre  y  hermoso,  pero  lo  hemos  perdido.  La  codicia  ha  envenenado  las  armas, ha levantado barreras de odio, nos ha empujado hacia las miserias  y las matanzas. \n",
    "\n",
    "Hemos progresado muy deprisa, pero nos hemos encarcelado a nosotros  mismos. El maquinismo,  que  crea  abundancia,  nos  deja en  la  necesidad.  Nuestro conocimiento nos ha hecho cínicos. Nuestra inteligencia, duros y  secos. Pensamos demasiado, sentimos muy poco. \n",
    "\n",
    "Más  que  máquinas  necesitamos  más  humanidad.  Más  que  inteligencia,  tener bondad y dulzura. \n",
    "\n",
    "Sin estas cualidades la vida será violenta, se perderá todo. Los aviones y la  radio nos hacen sentirnos más cercanos. La verdadera naturaleza de estos  inventos exige bondad humana, exige la hermandad universal que nos una  a todos nosotros. \n",
    "Ahora mismo, mi voz llega a millones de seres en todo el mundo, millones  de  hombres  desesperados,  mujeres  y  niños,  víctimas  de  un  sistema  que  hace  torturar  a  los  hombres  y  encarcelar  a  gentes  inocentes.  A  los  que  puedan oírme, les digo: no desesperéis. La desdicha que padecemos no es  más que la pasajera codicia y la amargura de hombres que temen seguir el  camino del progreso humano. \n",
    "El odio pasará y caerán los dictadores, y el poder que se le quitó al pueblo  se le reintegrará al pueblo, y, así, mientras el Hombre exista, la libertad no  perecerá. \n",
    "\n",
    "Soldados. \n",
    "No  os  entreguéis  a  eso  que  en  realidad  os  desprecian,  os  esclavizan,  reglamentan vuestras vidas y  os  dicen  qué  tenéis  que  hacer,  qué  decir y  qué sentir.\n",
    "Os barren el cerebro, os ceban, os tratan como a ganado y como carne de  cañón. No os entreguéis a estos individuos inhumanos, hombres máquina,  con cerebros y corazones de máquina. \n",
    "Vosotros no sois ganado, no sois máquinas, sois Hombres. Lleváis el amor  de la Humanidad en vuestros corazones, no el odio. Sólo lo que no aman  odian, los que nos aman y los inhumanos. \n",
    "\n",
    "Soldados. \n",
    "No luchéis por la esclavitud, sino por la libertad. En el capítulo 17 de San  Lucas se lee: “El Reino de Dios no está en un hombre, ni en un grupo de  hombres,  sino  en  todos  los  hombres…”  Vosotros  los  hombres  tenéis  el  poder. El poder de crear máquinas, el poder de crear felicidad, el poder de  hacer esta vida libre y hermosa y convertirla en una maravillosa aventura. \n",
    "En nombre de la democracia, utilicemos ese poder actuando todos unidos.  Luchemos  por  un  mundo  nuevo,  digno  y  noble  que  garantice  a  los  hombres un  trabajo, a la juventud un  futuro y a la vejez  seguridad. Pero  bajo  la  promesa  de  esas  cosas,  las  fieras  subieron  al  poder.  Pero  mintieron; nunca han cumplido sus promesas ni nunca las cumplirán. Los  dictadores son libres sólo ellos, pero esclavizan al pueblo. Luchemos ahora  para  hacer  realidad  lo  prometido. Todos  a  luchar  para  liberar  al mundo.  Para  derribar  barreras  nacionales,  para eliminar la ambición, el  odio y la  intolerancia. \n",
    "Luchemos por el mundo de la razón. \n",
    "Un  mundo  donde  la  ciencia,  el  progreso,  nos  conduzca  a  todos  a  la  felicidad. \n",
    "\n",
    "Soldados. \n",
    "En nombre de la democracia, debemos unirnos todos.\n",
    "\"\"\"\n"
   ]
  },
  {
   "cell_type": "markdown",
   "metadata": {},
   "source": [
    "Importing libraries and tools such as Stopwords"
   ]
  },
  {
   "cell_type": "code",
   "execution_count": 3,
   "metadata": {},
   "outputs": [
    {
     "name": "stderr",
     "output_type": "stream",
     "text": [
      "[nltk_data] Downloading package stopwords to\n",
      "[nltk_data]     C:\\Users\\bleew\\AppData\\Roaming\\nltk_data...\n",
      "[nltk_data]   Package stopwords is already up-to-date!\n"
     ]
    },
    {
     "data": {
      "text/plain": [
       "True"
      ]
     },
     "execution_count": 3,
     "metadata": {},
     "output_type": "execute_result"
    }
   ],
   "source": [
    "#For first time you run the project\n",
    "from nltk.stem import PorterStemmer, SnowballStemmer\n",
    "from nltk.corpus import stopwords\n",
    "\n",
    "import nltk\n",
    "nltk.download('stopwords')"
   ]
  },
  {
   "cell_type": "code",
   "execution_count": 3,
   "metadata": {},
   "outputs": [],
   "source": [
    "import nltk\n",
    "from nltk.stem import PorterStemmer, SnowballStemmer \n",
    "from nltk.corpus import stopwords \n",
    "\n"
   ]
  },
  {
   "cell_type": "code",
   "execution_count": 4,
   "metadata": {},
   "outputs": [],
   "source": [
    "stopwords.words('spanish')\n",
    "spanish_sw = stopwords.words('spanish')"
   ]
  },
  {
   "cell_type": "code",
   "execution_count": 3,
   "metadata": {},
   "outputs": [
    {
     "data": {
      "text/plain": [
       "['au',\n",
       " 'aux',\n",
       " 'avec',\n",
       " 'ce',\n",
       " 'ces',\n",
       " 'dans',\n",
       " 'de',\n",
       " 'des',\n",
       " 'du',\n",
       " 'elle',\n",
       " 'en',\n",
       " 'et',\n",
       " 'eux',\n",
       " 'il',\n",
       " 'ils',\n",
       " 'je',\n",
       " 'la',\n",
       " 'le',\n",
       " 'les',\n",
       " 'leur',\n",
       " 'lui',\n",
       " 'ma',\n",
       " 'mais',\n",
       " 'me',\n",
       " 'même',\n",
       " 'mes',\n",
       " 'moi',\n",
       " 'mon',\n",
       " 'ne',\n",
       " 'nos',\n",
       " 'notre',\n",
       " 'nous',\n",
       " 'on',\n",
       " 'ou',\n",
       " 'par',\n",
       " 'pas',\n",
       " 'pour',\n",
       " 'qu',\n",
       " 'que',\n",
       " 'qui',\n",
       " 'sa',\n",
       " 'se',\n",
       " 'ses',\n",
       " 'son',\n",
       " 'sur',\n",
       " 'ta',\n",
       " 'te',\n",
       " 'tes',\n",
       " 'toi',\n",
       " 'ton',\n",
       " 'tu',\n",
       " 'un',\n",
       " 'une',\n",
       " 'vos',\n",
       " 'votre',\n",
       " 'vous',\n",
       " 'c',\n",
       " 'd',\n",
       " 'j',\n",
       " 'l',\n",
       " 'à',\n",
       " 'm',\n",
       " 'n',\n",
       " 's',\n",
       " 't',\n",
       " 'y',\n",
       " 'été',\n",
       " 'étée',\n",
       " 'étées',\n",
       " 'étés',\n",
       " 'étant',\n",
       " 'étante',\n",
       " 'étants',\n",
       " 'étantes',\n",
       " 'suis',\n",
       " 'es',\n",
       " 'est',\n",
       " 'sommes',\n",
       " 'êtes',\n",
       " 'sont',\n",
       " 'serai',\n",
       " 'seras',\n",
       " 'sera',\n",
       " 'serons',\n",
       " 'serez',\n",
       " 'seront',\n",
       " 'serais',\n",
       " 'serait',\n",
       " 'serions',\n",
       " 'seriez',\n",
       " 'seraient',\n",
       " 'étais',\n",
       " 'était',\n",
       " 'étions',\n",
       " 'étiez',\n",
       " 'étaient',\n",
       " 'fus',\n",
       " 'fut',\n",
       " 'fûmes',\n",
       " 'fûtes',\n",
       " 'furent',\n",
       " 'sois',\n",
       " 'soit',\n",
       " 'soyons',\n",
       " 'soyez',\n",
       " 'soient',\n",
       " 'fusse',\n",
       " 'fusses',\n",
       " 'fût',\n",
       " 'fussions',\n",
       " 'fussiez',\n",
       " 'fussent',\n",
       " 'ayant',\n",
       " 'ayante',\n",
       " 'ayantes',\n",
       " 'ayants',\n",
       " 'eu',\n",
       " 'eue',\n",
       " 'eues',\n",
       " 'eus',\n",
       " 'ai',\n",
       " 'as',\n",
       " 'avons',\n",
       " 'avez',\n",
       " 'ont',\n",
       " 'aurai',\n",
       " 'auras',\n",
       " 'aura',\n",
       " 'aurons',\n",
       " 'aurez',\n",
       " 'auront',\n",
       " 'aurais',\n",
       " 'aurait',\n",
       " 'aurions',\n",
       " 'auriez',\n",
       " 'auraient',\n",
       " 'avais',\n",
       " 'avait',\n",
       " 'avions',\n",
       " 'aviez',\n",
       " 'avaient',\n",
       " 'eut',\n",
       " 'eûmes',\n",
       " 'eûtes',\n",
       " 'eurent',\n",
       " 'aie',\n",
       " 'aies',\n",
       " 'ait',\n",
       " 'ayons',\n",
       " 'ayez',\n",
       " 'aient',\n",
       " 'eusse',\n",
       " 'eusses',\n",
       " 'eût',\n",
       " 'eussions',\n",
       " 'eussiez',\n",
       " 'eussent']"
      ]
     },
     "execution_count": 3,
     "metadata": {},
     "output_type": "execute_result"
    }
   ],
   "source": [
    "#Let's explore some stopwords for another language\n",
    "stopwords.words('french')"
   ]
  },
  {
   "cell_type": "markdown",
   "metadata": {},
   "source": [
    "Declare stemmer"
   ]
  },
  {
   "cell_type": "code",
   "execution_count": 5,
   "metadata": {},
   "outputs": [],
   "source": [
    "stemmer = PorterStemmer()"
   ]
  },
  {
   "cell_type": "markdown",
   "metadata": {},
   "source": [
    "Make sentences from the speech\n"
   ]
  },
  {
   "cell_type": "code",
   "execution_count": 6,
   "metadata": {},
   "outputs": [
    {
     "data": {
      "text/plain": [
       "['Lo siento.',\n",
       " 'Pero yo no quiero ser emperador.',\n",
       " 'Ese no es mi oficio, sino ayudar a todos  si  fuera  posible.',\n",
       " 'Blancos  o  negros.',\n",
       " 'Judíos  o  gentiles.',\n",
       " 'Tenemos  que  ayudarnos los  unos a los  otros; los  seres  humanos  somos así.',\n",
       " 'Queremos  hacer felices a los demás, no hacernos desgraciados.',\n",
       " 'No queremos odiar ni  ayudar a  nadie.',\n",
       " 'En este mundo  hay  sitio  para  todos  y  la  buena  tierra es  rica y  puede alimentar a  todos los  seres.',\n",
       " 'El  camino  de la vida  puede  ser  libre  y  hermoso,  pero  lo  hemos  perdido.',\n",
       " 'La  codicia  ha  envenenado  las  armas, ha levantado barreras de odio, nos ha empujado hacia las miserias  y las matanzas.',\n",
       " 'Hemos progresado muy deprisa, pero nos hemos encarcelado a nosotros  mismos.',\n",
       " 'El maquinismo,  que  crea  abundancia,  nos  deja en  la  necesidad.',\n",
       " 'Nuestro conocimiento nos ha hecho cínicos.',\n",
       " 'Nuestra inteligencia, duros y  secos.',\n",
       " 'Pensamos demasiado, sentimos muy poco.',\n",
       " 'Más  que  máquinas  necesitamos  más  humanidad.',\n",
       " 'Más  que  inteligencia,  tener bondad y dulzura.',\n",
       " 'Sin estas cualidades la vida será violenta, se perderá todo.',\n",
       " 'Los aviones y la  radio nos hacen sentirnos más cercanos.',\n",
       " 'La verdadera naturaleza de estos  inventos exige bondad humana, exige la hermandad universal que nos una  a todos nosotros.',\n",
       " 'Ahora mismo, mi voz llega a millones de seres en todo el mundo, millones  de  hombres  desesperados,  mujeres  y  niños,  víctimas  de  un  sistema  que  hace  torturar  a  los  hombres  y  encarcelar  a  gentes  inocentes.',\n",
       " 'A  los  que  puedan oírme, les digo: no desesperéis.',\n",
       " 'La desdicha que padecemos no es  más que la pasajera codicia y la amargura de hombres que temen seguir el  camino del progreso humano.',\n",
       " 'El odio pasará y caerán los dictadores, y el poder que se le quitó al pueblo  se le reintegrará al pueblo, y, así, mientras el Hombre exista, la libertad no  perecerá.',\n",
       " 'Soldados.',\n",
       " 'No  os  entreguéis  a  eso  que  en  realidad  os  desprecian,  os  esclavizan,  reglamentan vuestras vidas y  os  dicen  qué  tenéis  que  hacer,  qué  decir y  qué sentir.',\n",
       " 'Os barren el cerebro, os ceban, os tratan como a ganado y como carne de  cañón.',\n",
       " 'No os entreguéis a estos individuos inhumanos, hombres máquina,  con cerebros y corazones de máquina.',\n",
       " 'Vosotros no sois ganado, no sois máquinas, sois Hombres.',\n",
       " 'Lleváis el amor  de la Humanidad en vuestros corazones, no el odio.',\n",
       " 'Sólo lo que no aman  odian, los que nos aman y los inhumanos.',\n",
       " 'Soldados.',\n",
       " 'No luchéis por la esclavitud, sino por la libertad.',\n",
       " 'En el capítulo 17 de San  Lucas se lee: “El Reino de Dios no está en un hombre, ni en un grupo de  hombres,  sino  en  todos  los  hombres…”  Vosotros  los  hombres  tenéis  el  poder.',\n",
       " 'El poder de crear máquinas, el poder de crear felicidad, el poder de  hacer esta vida libre y hermosa y convertirla en una maravillosa aventura.',\n",
       " 'En nombre de la democracia, utilicemos ese poder actuando todos unidos.',\n",
       " 'Luchemos  por  un  mundo  nuevo,  digno  y  noble  que  garantice  a  los  hombres un  trabajo, a la juventud un  futuro y a la vejez  seguridad.',\n",
       " 'Pero  bajo  la  promesa  de  esas  cosas,  las  fieras  subieron  al  poder.',\n",
       " 'Pero  mintieron; nunca han cumplido sus promesas ni nunca las cumplirán.',\n",
       " 'Los  dictadores son libres sólo ellos, pero esclavizan al pueblo.',\n",
       " 'Luchemos ahora  para  hacer  realidad  lo  prometido.',\n",
       " 'Todos  a  luchar  para  liberar  al mundo.',\n",
       " 'Para  derribar  barreras  nacionales,  para eliminar la ambición, el  odio y la  intolerancia.',\n",
       " 'Luchemos por el mundo de la razón.',\n",
       " 'Un  mundo  donde  la  ciencia,  el  progreso,  nos  conduzca  a  todos  a  la  felicidad.',\n",
       " 'Soldados.',\n",
       " 'En nombre de la democracia, debemos unirnos todos.']"
      ]
     },
     "execution_count": 6,
     "metadata": {},
     "output_type": "execute_result"
    }
   ],
   "source": [
    "nltk.sent_tokenize(corpus)"
   ]
  },
  {
   "cell_type": "code",
   "execution_count": 45,
   "metadata": {},
   "outputs": [],
   "source": [
    "sentences = nltk.sent_tokenize(corpus)"
   ]
  },
  {
   "cell_type": "code",
   "execution_count": 11,
   "metadata": {},
   "outputs": [
    {
     "data": {
      "text/plain": [
       "list"
      ]
     },
     "execution_count": 11,
     "metadata": {},
     "output_type": "execute_result"
    }
   ],
   "source": [
    "type(sentences)"
   ]
  },
  {
   "cell_type": "markdown",
   "metadata": {},
   "source": [
    "Now, its time for identifying stopwords, filter them and then apply stemming"
   ]
  },
  {
   "cell_type": "code",
   "execution_count": 46,
   "metadata": {},
   "outputs": [],
   "source": [
    "for i in range(len(sentences)):  \n",
    "    words = nltk.word_tokenize(sentences[i]) \n",
    "    words = [stemmer.stem(word) for word in words if word not in set(spanish_sw)]\n",
    "    sentences[i] = ' '.join(words)  \n"
   ]
  },
  {
   "cell_type": "code",
   "execution_count": 47,
   "metadata": {},
   "outputs": [
    {
     "data": {
      "text/plain": [
       "['lo siento .',\n",
       " 'pero quiero ser emperador .',\n",
       " 'ese oficio , sino ayudar si posibl .',\n",
       " 'blanco negro .',\n",
       " 'judío gentil .',\n",
       " 'tenemo ayudarno ; sere humano así .',\n",
       " 'queremo hacer felic demá , hacerno desgraciado .',\n",
       " 'no queremo odiar ayudar nadi .',\n",
       " 'en mundo sitio buena tierra rica pued alimentar sere .',\n",
       " 'el camino vida pued ser libr hermoso , perdido .',\n",
       " 'la codicia envenenado arma , levantado barrera odio , empujado hacia miseria matanza .',\n",
       " 'hemo progresado deprisa , encarcelado mismo .',\n",
       " 'el maquinismo , crea abundancia , deja necesidad .',\n",
       " 'nuestro conocimiento hecho cínico .',\n",
       " 'nuestra inteligencia , duro seco .',\n",
       " 'pensamo demasiado , sentimo .',\n",
       " 'má máquina necesitamo humanidad .',\n",
       " 'má inteligencia , tener bondad dulzura .',\n",
       " 'sin cualidad vida violenta , perderá .',\n",
       " 'lo avion radio hacen sentirno cercano .',\n",
       " 'la verdadera naturaleza invento exig bondad humana , exig hermandad univers .',\n",
       " 'ahora mismo , voz llega millon sere mundo , millon hombr desesperado , mujer niño , víctima sistema hace torturar hombr encarcelar gent inocent .',\n",
       " 'a puedan oírm , digo : desesperéi .',\n",
       " 'la desdicha padecemo pasajera codicia amargura hombr temen seguir camino progreso humano .',\n",
       " 'el odio pasará caerán dictador , poder quitó pueblo reintegrará pueblo , , así , mientra hombr exista , libertad perecerá .',\n",
       " 'soldado .',\n",
       " 'no entreguéi realidad desprecian , esclavizan , reglamentan vida dicen hacer , decir sentir .',\n",
       " 'os barren cerebro , ceban , tratan ganado carn cañón .',\n",
       " 'no entreguéi individuo inhumano , hombr máquina , cerebro corazon máquina .',\n",
       " 'vosotro ganado , máquina , hombr .',\n",
       " 'llevái amor humanidad corazon , odio .',\n",
       " 'sólo aman odian , aman inhumano .',\n",
       " 'soldado .',\n",
       " 'no luchéi esclavitud , sino libertad .',\n",
       " 'en capítulo 17 san luca lee : “ el reino dio hombr , grupo hombr , sino hombres… ” vosotro hombr poder .',\n",
       " 'el poder crear máquina , poder crear felicidad , poder hacer vida libr hermosa convertirla maravillosa aventura .',\n",
       " 'en nombr democracia , utilicemo poder actuando unido .',\n",
       " 'luchemo mundo nuevo , digno nobl garantic hombr trabajo , juventud futuro vejez seguridad .',\n",
       " 'pero bajo promesa cosa , fiera subieron poder .',\n",
       " 'pero mintieron ; nunca cumplido promesa nunca cumplirán .',\n",
       " 'lo dictador libr sólo , esclavizan pueblo .',\n",
       " 'luchemo ahora hacer realidad prometido .',\n",
       " 'todo luchar liberar mundo .',\n",
       " 'para derribar barrera nacional , eliminar ambición , odio intolerancia .',\n",
       " 'luchemo mundo razón .',\n",
       " 'un mundo ciencia , progreso , conduzca felicidad .',\n",
       " 'soldado .',\n",
       " 'en nombr democracia , debemo unirno .']"
      ]
     },
     "execution_count": 47,
     "metadata": {},
     "output_type": "execute_result"
    }
   ],
   "source": [
    "sentences\n"
   ]
  },
  {
   "cell_type": "markdown",
   "metadata": {},
   "source": [
    "Watch out!! See how lowercasing sentences has a tremendous effect in the stemming process\n",
    "\n",
    "\n",
    "This might *vary* depending on the *target language* "
   ]
  },
  {
   "cell_type": "code",
   "execution_count": 7,
   "metadata": {},
   "outputs": [],
   "source": [
    "porter_sentences = nltk.sent_tokenize(corpus)"
   ]
  },
  {
   "cell_type": "code",
   "execution_count": 9,
   "metadata": {},
   "outputs": [],
   "source": [
    "for i in range(len(porter_sentences)):\n",
    "    porter_sentences[i] = porter_sentences[i].lower()\n",
    "    words = nltk.word_tokenize(porter_sentences[i])\n",
    "    words = [stemmer.stem(word) for word in words if word not in set(spanish_sw)]\n",
    "    porter_sentences[i] = ' '.join(words)"
   ]
  },
  {
   "cell_type": "code",
   "execution_count": 10,
   "metadata": {},
   "outputs": [
    {
     "data": {
      "text/plain": [
       "['siento .',\n",
       " 'quiero ser emperador .',\n",
       " 'oficio , sino ayudar si posibl .',\n",
       " 'blanco negro .',\n",
       " 'judío gentil .',\n",
       " 'ayudarno ; sere humano así .',\n",
       " 'queremo hacer felic demá , hacerno desgraciado .',\n",
       " 'queremo odiar ayudar nadi .',\n",
       " 'mundo sitio buena tierra rica pued alimentar sere .',\n",
       " 'camino vida pued ser libr hermoso , perdido .',\n",
       " 'codicia envenenado arma , levantado barrera odio , empujado hacia miseria matanza .',\n",
       " 'progresado deprisa , encarcelado mismo .',\n",
       " 'maquinismo , crea abundancia , deja necesidad .',\n",
       " 'conocimiento hecho cínico .',\n",
       " 'inteligencia , duro seco .',\n",
       " 'pensamo demasiado , sentimo .',\n",
       " 'máquina necesitamo humanidad .',\n",
       " 'inteligencia , tener bondad dulzura .',\n",
       " 'cualidad vida violenta , perderá .',\n",
       " 'avion radio hacen sentirno cercano .',\n",
       " 'verdadera naturaleza invento exig bondad humana , exig hermandad univers .',\n",
       " 'ahora mismo , voz llega millon sere mundo , millon hombr desesperado , mujer niño , víctima sistema hace torturar hombr encarcelar gent inocent .',\n",
       " 'puedan oírm , digo : desesperéi .',\n",
       " 'desdicha padecemo pasajera codicia amargura hombr temen seguir camino progreso humano .',\n",
       " 'odio pasará caerán dictador , poder quitó pueblo reintegrará pueblo , , así , mientra hombr exista , libertad perecerá .',\n",
       " 'soldado .',\n",
       " 'entreguéi realidad desprecian , esclavizan , reglamentan vida dicen hacer , decir sentir .',\n",
       " 'barren cerebro , ceban , tratan ganado carn cañón .',\n",
       " 'entreguéi individuo inhumano , hombr máquina , cerebro corazon máquina .',\n",
       " 'ganado , máquina , hombr .',\n",
       " 'llevái amor humanidad corazon , odio .',\n",
       " 'sólo aman odian , aman inhumano .',\n",
       " 'soldado .',\n",
       " 'luchéi esclavitud , sino libertad .',\n",
       " 'capítulo 17 san luca lee : “ reino dio hombr , grupo hombr , sino hombres… ” hombr poder .',\n",
       " 'poder crear máquina , poder crear felicidad , poder hacer vida libr hermosa convertirla maravillosa aventura .',\n",
       " 'nombr democracia , utilicemo poder actuando unido .',\n",
       " 'luchemo mundo nuevo , digno nobl garantic hombr trabajo , juventud futuro vejez seguridad .',\n",
       " 'bajo promesa cosa , fiera subieron poder .',\n",
       " 'mintieron ; nunca cumplido promesa nunca cumplirán .',\n",
       " 'dictador libr sólo , esclavizan pueblo .',\n",
       " 'luchemo ahora hacer realidad prometido .',\n",
       " 'luchar liberar mundo .',\n",
       " 'derribar barrera nacional , eliminar ambición , odio intolerancia .',\n",
       " 'luchemo mundo razón .',\n",
       " 'mundo ciencia , progreso , conduzca felicidad .',\n",
       " 'soldado .',\n",
       " 'nombr democracia , debemo unirno .']"
      ]
     },
     "execution_count": 10,
     "metadata": {},
     "output_type": "execute_result"
    }
   ],
   "source": [
    "porter_sentences"
   ]
  },
  {
   "cell_type": "markdown",
   "metadata": {},
   "source": [
    "As we did in text preprocessing, let's see how Snowball stemmer performs for this task"
   ]
  },
  {
   "cell_type": "code",
   "execution_count": 14,
   "metadata": {},
   "outputs": [],
   "source": [
    "sb_stemmer = SnowballStemmer('spanish')"
   ]
  },
  {
   "cell_type": "code",
   "execution_count": 29,
   "metadata": {},
   "outputs": [],
   "source": [
    "sentences = nltk.sent_tokenize(corpus)"
   ]
  },
  {
   "cell_type": "markdown",
   "metadata": {},
   "source": [
    "Identifying stopwords, filter them and then apply Snowball stemming"
   ]
  },
  {
   "cell_type": "code",
   "execution_count": 11,
   "metadata": {},
   "outputs": [],
   "source": [
    "for i in range(len(sentences)):\n",
    "    words = nltk.word_tokenize(sentences[i])\n",
    "    words = [sb_stemmer.stem(word) for word in words if word not in set(spanish_sw)]\n",
    "    sentences[i] = ' '.join(words)"
   ]
  },
  {
   "cell_type": "code",
   "execution_count": 12,
   "metadata": {},
   "outputs": [
    {
     "data": {
      "text/plain": [
       "['lo sient .',\n",
       " 'per quier ser emper .',\n",
       " 'ese ofici , sin ayud si posibl .',\n",
       " 'blanc negr .',\n",
       " 'judi gentil .',\n",
       " 'ten ayud ; ser human asi .',\n",
       " 'quer hac felic demas , hac desgraci .',\n",
       " 'no quer odi ayud nadi .',\n",
       " 'en mund siti buen tierr ric pued aliment ser .',\n",
       " 'el camin vid pued ser libr hermos , perd .',\n",
       " 'la codici envenen armas , levant barrer odi , empuj haci miseri matanz .',\n",
       " 'hem progres depris , encarcel mism .',\n",
       " 'el maquin , cre abund , dej neces .',\n",
       " 'nuestr conoc hech cinic .',\n",
       " 'nuestr inteligent , dur sec .',\n",
       " 'pens demasi , sent .',\n",
       " 'mas maquin necesit human .',\n",
       " 'mas inteligent , ten bond dulzur .',\n",
       " 'sin cualidad vid violent , perd .',\n",
       " 'los avion radi hac sent cercan .',\n",
       " 'la verdader naturalez invent exig bond human , exig hermand universal .',\n",
       " 'ahor mism , voz lleg millon ser mund , millon hombr desesper , mujer niñ , victim sistem hac tortur hombr encarcel gent inocent .',\n",
       " 'a pued oirm , dig : desesp .',\n",
       " 'la desdich padec pasajer codici amargur hombr tem segu camin progres human .',\n",
       " 'el odi pas caeran dictador , pod quit puebl reintegr puebl , , asi , mientr hombr exist , libert perec .',\n",
       " 'sold .',\n",
       " 'no entreg realid despreci , esclaviz , reglament vid dic hac , dec sent .',\n",
       " 'os barr cerebr , ceb , trat gan carn cañon .',\n",
       " 'no entreg individu inhuman , hombr maquin , cerebr corazon maquin .',\n",
       " 'vosotr gan , maquin , hombr .',\n",
       " 'llev amor human corazon , odi .',\n",
       " 'sol aman odi , aman inhuman .',\n",
       " 'sold .',\n",
       " 'no luch esclavitud , sin libert .',\n",
       " 'en capitul 17 san luc lee : “ el rein dios hombr , grup hombr , sin hombres… ” vosotr hombr pod .',\n",
       " 'el pod cre maquin , pod cre felic , pod hac vid libr hermos convert maravill aventur .',\n",
       " 'en nombr democraci , utilic pod actu unid .',\n",
       " 'luch mund nuev , dign nobl garantic hombr trabaj , juventud futur vejez segur .',\n",
       " 'per baj promes cos , fier sub pod .',\n",
       " 'per mint ; nunc cumpl promes nunc cumpl .',\n",
       " 'los dictador libr sol , esclaviz puebl .',\n",
       " 'luch ahor hac realid promet .',\n",
       " 'tod luch liber mund .',\n",
       " 'par derrib barrer nacional , elimin ambicion , odi intoler .',\n",
       " 'luch mund razon .',\n",
       " 'un mund cienci , progres , conduzc felic .',\n",
       " 'sold .',\n",
       " 'en nombr democraci , deb unirn .']"
      ]
     },
     "execution_count": 12,
     "metadata": {},
     "output_type": "execute_result"
    }
   ],
   "source": [
    "sentences"
   ]
  },
  {
   "cell_type": "markdown",
   "metadata": {},
   "source": [
    "See what happens when lowercasing sentences"
   ]
  },
  {
   "cell_type": "code",
   "execution_count": 15,
   "metadata": {},
   "outputs": [],
   "source": [
    "sb_sentences = nltk.sent_tokenize(corpus)"
   ]
  },
  {
   "cell_type": "code",
   "execution_count": 16,
   "metadata": {},
   "outputs": [],
   "source": [
    "for i in range(len(sb_sentences)):\n",
    "    sb_sentences[i] = sb_sentences[i].lower()\n",
    "    words = nltk.word_tokenize(sb_sentences[i])\n",
    "    words = [sb_stemmer.stem(word) for word in words if word not in set(spanish_sw)]\n",
    "    sb_sentences[i] = ' '.join(words)"
   ]
  },
  {
   "cell_type": "code",
   "execution_count": 17,
   "metadata": {},
   "outputs": [
    {
     "data": {
      "text/plain": [
       "['sient .',\n",
       " 'quier ser emper .',\n",
       " 'ofici , sin ayud si posibl .',\n",
       " 'blanc negr .',\n",
       " 'judi gentil .',\n",
       " 'ayud ; ser human asi .',\n",
       " 'quer hac felic demas , hac desgraci .',\n",
       " 'quer odi ayud nadi .',\n",
       " 'mund siti buen tierr ric pued aliment ser .',\n",
       " 'camin vid pued ser libr hermos , perd .',\n",
       " 'codici envenen armas , levant barrer odi , empuj haci miseri matanz .',\n",
       " 'progres depris , encarcel mism .',\n",
       " 'maquin , cre abund , dej neces .',\n",
       " 'conoc hech cinic .',\n",
       " 'inteligent , dur sec .',\n",
       " 'pens demasi , sent .',\n",
       " 'maquin necesit human .',\n",
       " 'inteligent , ten bond dulzur .',\n",
       " 'cualidad vid violent , perd .',\n",
       " 'avion radi hac sent cercan .',\n",
       " 'verdader naturalez invent exig bond human , exig hermand universal .',\n",
       " 'ahor mism , voz lleg millon ser mund , millon hombr desesper , mujer niñ , victim sistem hac tortur hombr encarcel gent inocent .',\n",
       " 'pued oirm , dig : desesp .',\n",
       " 'desdich padec pasajer codici amargur hombr tem segu camin progres human .',\n",
       " 'odi pas caeran dictador , pod quit puebl reintegr puebl , , asi , mientr hombr exist , libert perec .',\n",
       " 'sold .',\n",
       " 'entreg realid despreci , esclaviz , reglament vid dic hac , dec sent .',\n",
       " 'barr cerebr , ceb , trat gan carn cañon .',\n",
       " 'entreg individu inhuman , hombr maquin , cerebr corazon maquin .',\n",
       " 'gan , maquin , hombr .',\n",
       " 'llev amor human corazon , odi .',\n",
       " 'sol aman odi , aman inhuman .',\n",
       " 'sold .',\n",
       " 'luch esclavitud , sin libert .',\n",
       " 'capitul 17 san luc lee : “ rein dios hombr , grup hombr , sin hombres… ” hombr pod .',\n",
       " 'pod cre maquin , pod cre felic , pod hac vid libr hermos convert maravill aventur .',\n",
       " 'nombr democraci , utilic pod actu unid .',\n",
       " 'luch mund nuev , dign nobl garantic hombr trabaj , juventud futur vejez segur .',\n",
       " 'baj promes cos , fier sub pod .',\n",
       " 'mint ; nunc cumpl promes nunc cumpl .',\n",
       " 'dictador libr sol , esclaviz puebl .',\n",
       " 'luch ahor hac realid promet .',\n",
       " 'luch liber mund .',\n",
       " 'derrib barrer nacional , elimin ambicion , odi intoler .',\n",
       " 'luch mund razon .',\n",
       " 'mund cienci , progres , conduzc felic .',\n",
       " 'sold .',\n",
       " 'nombr democraci , deb unirn .']"
      ]
     },
     "execution_count": 17,
     "metadata": {},
     "output_type": "execute_result"
    }
   ],
   "source": [
    "sb_sentences"
   ]
  },
  {
   "cell_type": "markdown",
   "metadata": {},
   "source": [
    "Let's apply lemmatization now and see the effects"
   ]
  },
  {
   "cell_type": "code",
   "execution_count": 18,
   "metadata": {},
   "outputs": [],
   "source": [
    "from nltk.stem import WordNetLemmatizer\n",
    "lemmatizer = WordNetLemmatizer()"
   ]
  },
  {
   "cell_type": "code",
   "execution_count": 23,
   "metadata": {},
   "outputs": [],
   "source": [
    "sentences = nltk.sent_tokenize(corpus)"
   ]
  },
  {
   "cell_type": "code",
   "execution_count": 24,
   "metadata": {},
   "outputs": [],
   "source": [
    "for i in range(len(sentences)):\n",
    "    words = nltk.word_tokenize(sentences[i])\n",
    "    words = [lemmatizer.lemmatize(word) for word in words if word not in set(spanish_sw)]\n",
    "    sentences[i] = ' '.join(words)"
   ]
  },
  {
   "cell_type": "code",
   "execution_count": 25,
   "metadata": {},
   "outputs": [
    {
     "data": {
      "text/plain": [
       "['Lo siento .',\n",
       " 'Pero quiero ser emperador .',\n",
       " 'Ese oficio , sino ayudar si posible .',\n",
       " 'Blancos negro .',\n",
       " 'Judíos gentile .',\n",
       " 'Tenemos ayudarnos ; seres humanos así .',\n",
       " 'Queremos hacer felices demás , hacernos desgraciados .',\n",
       " 'No queremos odiar ayudar nadie .',\n",
       " 'En mundo sitio buena tierra rica puede alimentar seres .',\n",
       " 'El camino vida puede ser libre hermoso , perdido .',\n",
       " 'La codicia envenenado armas , levantado barreras odio , empujado hacia miserias matanzas .',\n",
       " 'Hemos progresado deprisa , encarcelado mismos .',\n",
       " 'El maquinismo , crea abundancia , deja necesidad .',\n",
       " 'Nuestro conocimiento hecho cínicos .',\n",
       " 'Nuestra inteligencia , duros secos .',\n",
       " 'Pensamos demasiado , sentimos .',\n",
       " 'Más máquinas necesitamos humanidad .',\n",
       " 'Más inteligencia , tener bondad dulzura .',\n",
       " 'Sin cualidades vida violenta , perderá .',\n",
       " 'Los aviones radio hacen sentirnos cercanos .',\n",
       " 'La verdadera naturaleza inventos exige bondad humana , exige hermandad universal .',\n",
       " 'Ahora mismo , voz llega millones seres mundo , millones hombre desesperados , mujeres niños , víctimas sistema hace torturar hombre encarcelar gens inocentes .',\n",
       " 'A puedan oírme , digo : desesperéis .',\n",
       " 'La desdicha padecemos pasajera codicia amargura hombre temen seguir camino progreso humano .',\n",
       " 'El odio pasará caerán dictadores , poder quitó pueblo reintegrará pueblo , , así , mientras Hombre exista , libertad perecerá .',\n",
       " 'Soldados .',\n",
       " 'No entreguéis realidad desprecian , esclavizan , reglamentan vidas dicen hacer , decir sentir .',\n",
       " 'Os barren cerebro , ceban , tratan ganado carne cañón .',\n",
       " 'No entreguéis individuos inhumanos , hombre máquina , cerebros corazones máquina .',\n",
       " 'Vosotros ganado , máquinas , Hombres .',\n",
       " 'Lleváis amor Humanidad corazones , odio .',\n",
       " 'Sólo aman odian , aman inhumanos .',\n",
       " 'Soldados .',\n",
       " 'No luchéis esclavitud , sino libertad .',\n",
       " 'En capítulo 17 San Lucas lee : “ El Reino Dios hombre , grupo hombre , sino hombres… ” Vosotros hombre poder .',\n",
       " 'El poder crear máquinas , poder crear felicidad , poder hacer vida libre hermosa convertirla maravillosa aventura .',\n",
       " 'En nombre democracia , utilicemos poder actuando unidos .',\n",
       " 'Luchemos mundo nuevo , digno noble garantice hombre trabajo , juventud futuro vejez seguridad .',\n",
       " 'Pero bajo promesa cosas , fieras subieron poder .',\n",
       " 'Pero mintieron ; nunca cumplido promesas nunca cumplirán .',\n",
       " 'Los dictadores libres sólo , esclavizan pueblo .',\n",
       " 'Luchemos ahora hacer realidad prometido .',\n",
       " 'Todos luchar liberar mundo .',\n",
       " 'Para derribar barreras nacionales , eliminar ambición , odio intolerancia .',\n",
       " 'Luchemos mundo razón .',\n",
       " 'Un mundo ciencia , progreso , conduzca felicidad .',\n",
       " 'Soldados .',\n",
       " 'En nombre democracia , debemos unirnos .']"
      ]
     },
     "execution_count": 25,
     "metadata": {},
     "output_type": "execute_result"
    }
   ],
   "source": [
    "sentences"
   ]
  },
  {
   "cell_type": "markdown",
   "metadata": {},
   "source": [
    "Again, mind the lowercase"
   ]
  },
  {
   "cell_type": "code",
   "execution_count": 19,
   "metadata": {},
   "outputs": [],
   "source": [
    "lemma_sentences = nltk.sent_tokenize(corpus)"
   ]
  },
  {
   "cell_type": "code",
   "execution_count": 21,
   "metadata": {},
   "outputs": [],
   "source": [
    "for i in range(len(lemma_sentences)):\n",
    "    lemma_sentences[i] = lemma_sentences[i].lower()\n",
    "    words = nltk.word_tokenize(lemma_sentences[i])\n",
    "    words = [lemmatizer.lemmatize(word, pos='v') for word in words if word not in set(spanish_sw)]\n",
    "    lemma_sentences[i] = ' '.join(words)"
   ]
  },
  {
   "cell_type": "code",
   "execution_count": 22,
   "metadata": {},
   "outputs": [
    {
     "data": {
      "text/plain": [
       "['siento .',\n",
       " 'quiero ser emperador .',\n",
       " 'oficio , sino ayudar si posible .',\n",
       " 'blancos negros .',\n",
       " 'judíos gentiles .',\n",
       " 'ayudarnos ; seres humanos así .',\n",
       " 'queremos hacer felices demás , hacernos desgraciados .',\n",
       " 'queremos odiar ayudar nadie .',\n",
       " 'mundo sitio buena tierra rica puede alimentar seres .',\n",
       " 'camino vida puede ser libre hermoso , perdido .',\n",
       " 'codicia envenenado armas , levantado barreras odio , empujado hacia miserias matanzas .',\n",
       " 'progresado deprisa , encarcelado mismos .',\n",
       " 'maquinismo , crea abundancia , deja necesidad .',\n",
       " 'conocimiento hecho cínicos .',\n",
       " 'inteligencia , duros secos .',\n",
       " 'pensamos demasiado , sentimos .',\n",
       " 'máquinas necesitamos humanidad .',\n",
       " 'inteligencia , tener bondad dulzura .',\n",
       " 'cualidades vida violenta , perderá .',\n",
       " 'aviones radio hacen sentirnos cercanos .',\n",
       " 'verdadera naturaleza inventos exige bondad humana , exige hermandad universal .',\n",
       " 'ahora mismo , voz llega millones seres mundo , millones hombres desesperados , mujeres niños , víctimas sistema hace torturar hombres encarcelar gentes inocentes .',\n",
       " 'puedan oírme , digo : desesperéis .',\n",
       " 'desdicha padecemos pasajera codicia amargura hombres temen seguir camino progreso humano .',\n",
       " 'odio pasará caerán dictadores , poder quitó pueblo reintegrará pueblo , , así , mientras hombre exista , libertad perecerá .',\n",
       " 'soldados .',\n",
       " 'entreguéis realidad desprecian , esclavizan , reglamentan vidas dicen hacer , decir sentir .',\n",
       " 'barren cerebro , ceban , tratan ganado carne cañón .',\n",
       " 'entreguéis individuos inhumanos , hombres máquina , cerebros corazones máquina .',\n",
       " 'ganado , máquinas , hombres .',\n",
       " 'lleváis amor humanidad corazones , odio .',\n",
       " 'sólo aman odian , aman inhumanos .',\n",
       " 'soldados .',\n",
       " 'luchéis esclavitud , sino libertad .',\n",
       " 'capítulo 17 san lucas lee : “ reino dios hombre , grupo hombres , sino hombres… ” hombres poder .',\n",
       " 'poder crear máquinas , poder crear felicidad , poder hacer vida libre hermosa convertirla maravillosa aventura .',\n",
       " 'nombre democracia , utilicemos poder actuando unidos .',\n",
       " 'luchemos mundo nuevo , digno noble garantice hombres trabajo , juventud futuro vejez seguridad .',\n",
       " 'bajo promesa cosas , fieras subieron poder .',\n",
       " 'mintieron ; nunca cumplido promesas nunca cumplirán .',\n",
       " 'dictadores libres sólo , esclavizan pueblo .',\n",
       " 'luchemos ahora hacer realidad prometido .',\n",
       " 'luchar liberar mundo .',\n",
       " 'derribar barreras nacionales , eliminar ambición , odio intolerancia .',\n",
       " 'luchemos mundo razón .',\n",
       " 'mundo ciencia , progreso , conduzca felicidad .',\n",
       " 'soldados .',\n",
       " 'nombre democracia , debemos unirnos .']"
      ]
     },
     "execution_count": 22,
     "metadata": {},
     "output_type": "execute_result"
    }
   ],
   "source": [
    "lemma_sentences"
   ]
  },
  {
   "cell_type": "markdown",
   "metadata": {},
   "source": [
    "Now, let us show a few random choices among the different text preprocessing processes.\n",
    "\n",
    "\n",
    "This action should let us spot the differences between outputs. "
   ]
  },
  {
   "cell_type": "code",
   "execution_count": 26,
   "metadata": {},
   "outputs": [],
   "source": [
    "import random"
   ]
  },
  {
   "cell_type": "code",
   "execution_count": 33,
   "metadata": {},
   "outputs": [],
   "source": [
    "int = random.randrange(len(sentences))"
   ]
  },
  {
   "cell_type": "code",
   "execution_count": 35,
   "metadata": {},
   "outputs": [
    {
     "name": "stdout",
     "output_type": "stream",
     "text": [
      "Porter stemmer:  entreguéi individuo inhumano , hombr máquina , cerebro corazon máquina .\n",
      "Snowball stemmer:  entreg individu inhuman , hombr maquin , cerebr corazon maquin .\n",
      "Lemmatization:  entreguéis individuos inhumanos , hombres máquina , cerebros corazones máquina .\n"
     ]
    }
   ],
   "source": [
    "print(\"Porter stemmer: \", porter_sentences[int])\n",
    "print(\"Snowball stemmer: \",sb_sentences[int])\n",
    "print(\"Lemmatization: \",lemma_sentences[int])"
   ]
  },
  {
   "cell_type": "code",
   "execution_count": null,
   "metadata": {},
   "outputs": [],
   "source": []
  }
 ],
 "metadata": {
  "kernelspec": {
   "display_name": "env",
   "language": "python",
   "name": "python3"
  },
  "language_info": {
   "codemirror_mode": {
    "name": "ipython",
    "version": 3
   },
   "file_extension": ".py",
   "mimetype": "text/x-python",
   "name": "python",
   "nbconvert_exporter": "python",
   "pygments_lexer": "ipython3",
   "version": "3.10.11"
  }
 },
 "nbformat": 4,
 "nbformat_minor": 2
}
