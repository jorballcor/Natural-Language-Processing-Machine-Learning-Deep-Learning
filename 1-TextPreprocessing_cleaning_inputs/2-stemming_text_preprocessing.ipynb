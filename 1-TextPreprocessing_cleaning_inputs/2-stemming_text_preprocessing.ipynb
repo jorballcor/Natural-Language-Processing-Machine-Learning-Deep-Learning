{
 "cells": [
  {
   "cell_type": "markdown",
   "metadata": {},
   "source": [
    "# Stemming - Text Preprocessing\n",
    "\n",
    "**Goal**: This notebook explores stemming, a key text preprocessing technique used in NLP. Stemming reduces words to their base or root form (known as the \"stem\"), which helps in minimizing variations of a word in textual data.\n",
    "\n",
    "**Context**: Stemming is useful when dealing with tasks like information retrieval and search engines, where variations of a word should be treated as the same word (e.g., \"running,\" \"runs,\" and \"ran\" become \"run\"). This notebook introduces the concept of stemming and demonstrates various stemming algorithms, highlighting their benefits and limitations.\n"
   ]
  },
  {
   "cell_type": "markdown",
   "metadata": {},
   "source": [
    "### Stemming\n",
    "Stemming is the process of reducing a word to its word stem that affixes to suffixes and prefixes or to the roots of words known as a lemma. Stemming is important in natural language understanding (NLU) and natural language processing (NLP)."
   ]
  },
  {
   "cell_type": "code",
   "execution_count": 1,
   "metadata": {},
   "outputs": [],
   "source": [
    "## Classification Problem\n",
    "## Product comments are a positive review or negative review\n",
    "## Reviews----> eating, eat,eaten [going,gone,goes]--->go\n",
    "\n",
    "words=[\"eating\",\"eats\",\"eaten\",\"writing\",\"writes\",\"programming\",\"programs\",\"history\",\"finally\",\"finalized\"]"
   ]
  },
  {
   "cell_type": "markdown",
   "metadata": {},
   "source": [
    "### PorterStemmer\n"
   ]
  },
  {
   "cell_type": "code",
   "execution_count": 2,
   "metadata": {},
   "outputs": [],
   "source": [
    "from nltk.stem import PorterStemmer\n",
    "stemmer = PorterStemmer()"
   ]
  },
  {
   "cell_type": "code",
   "execution_count": 3,
   "metadata": {},
   "outputs": [
    {
     "name": "stdout",
     "output_type": "stream",
     "text": [
      "eating--->eat\n",
      "eats--->eat\n",
      "eaten--->eaten\n",
      "writing--->write\n",
      "writes--->write\n",
      "programming--->program\n",
      "programs--->program\n",
      "history--->histori\n",
      "finally--->final\n",
      "finalized--->final\n"
     ]
    }
   ],
   "source": [
    "for word in words:\n",
    "    print(word+\"--->\"+stemmer.stem(word))"
   ]
  },
  {
   "cell_type": "code",
   "execution_count": 4,
   "metadata": {},
   "outputs": [
    {
     "data": {
      "text/plain": [
       "'congratul'"
      ]
     },
     "execution_count": 4,
     "metadata": {},
     "output_type": "execute_result"
    }
   ],
   "source": [
    "stemmer.stem('congratulations')"
   ]
  },
  {
   "cell_type": "code",
   "execution_count": 5,
   "metadata": {},
   "outputs": [
    {
     "data": {
      "text/plain": [
       "'sit'"
      ]
     },
     "execution_count": 5,
     "metadata": {},
     "output_type": "execute_result"
    }
   ],
   "source": [
    "stemmer.stem('sitting')"
   ]
  },
  {
   "cell_type": "markdown",
   "metadata": {},
   "source": [
    "### RegexpStemmer class\n",
    "NLTK has RegexpStemmer class with the help of which we can easily implement Regular Expression Stemmer algorithms. It basically takes a single regular expression and removes any prefix or suffix that matches the expression. Let us see an example"
   ]
  },
  {
   "cell_type": "code",
   "execution_count": 6,
   "metadata": {},
   "outputs": [],
   "source": [
    "from nltk.stem import RegexpStemmer"
   ]
  },
  {
   "cell_type": "code",
   "execution_count": 10,
   "metadata": {},
   "outputs": [],
   "source": [
    "reg_stemmer = RegexpStemmer('ing$|s$|e$|able$', min=4)"
   ]
  },
  {
   "cell_type": "code",
   "execution_count": 11,
   "metadata": {},
   "outputs": [
    {
     "data": {
      "text/plain": [
       "'eat'"
      ]
     },
     "execution_count": 11,
     "metadata": {},
     "output_type": "execute_result"
    }
   ],
   "source": [
    "reg_stemmer.stem('eating')"
   ]
  },
  {
   "cell_type": "code",
   "execution_count": 12,
   "metadata": {},
   "outputs": [
    {
     "data": {
      "text/plain": [
       "'ingeat'"
      ]
     },
     "execution_count": 12,
     "metadata": {},
     "output_type": "execute_result"
    }
   ],
   "source": [
    "reg_stemmer.stem('ingeating')"
   ]
  },
  {
   "cell_type": "markdown",
   "metadata": {},
   "source": [
    "'ing$' does not remove 'ing' particles at the beginning of the word. That's why reg_stemmer is returning 'ingeat' as a result. Let's fix this by adding 'ing' without $ to reg_stemmer instance. "
   ]
  },
  {
   "cell_type": "code",
   "execution_count": 23,
   "metadata": {},
   "outputs": [],
   "source": [
    "reg_stemmer = RegexpStemmer('ing|ing$|s$|e$|able$', min=4)"
   ]
  },
  {
   "cell_type": "code",
   "execution_count": 24,
   "metadata": {},
   "outputs": [
    {
     "data": {
      "text/plain": [
       "'eat'"
      ]
     },
     "execution_count": 24,
     "metadata": {},
     "output_type": "execute_result"
    }
   ],
   "source": [
    "reg_stemmer.stem('ingeating')"
   ]
  },
  {
   "cell_type": "markdown",
   "metadata": {},
   "source": [
    "### Snowball Stemmer\n",
    "It is a stemming algorithm which is also known as the Porter2 stemming algorithm as it is a better version of the Porter Stemmer since some issues of it were fixed in this stemmer."
   ]
  },
  {
   "cell_type": "code",
   "execution_count": 15,
   "metadata": {},
   "outputs": [],
   "source": [
    "from nltk.stem import SnowballStemmer\n",
    "sb_stemmer = SnowballStemmer('english')"
   ]
  },
  {
   "cell_type": "code",
   "execution_count": 25,
   "metadata": {},
   "outputs": [
    {
     "name": "stdout",
     "output_type": "stream",
     "text": [
      "eating--->eat\n",
      "eats--->eat\n",
      "eaten--->eaten\n",
      "writing--->write\n",
      "writes--->write\n",
      "programming--->program\n",
      "programs--->program\n",
      "history--->histori\n",
      "finally--->final\n",
      "finalized--->final\n"
     ]
    }
   ],
   "source": [
    "for word in words:\n",
    "    print(word+\"--->\"+sb_stemmer.stem(word))\n",
    "#This one works better"
   ]
  },
  {
   "cell_type": "markdown",
   "metadata": {},
   "source": [
    "Let's spot different behaviours"
   ]
  },
  {
   "cell_type": "code",
   "execution_count": 19,
   "metadata": {},
   "outputs": [
    {
     "data": {
      "text/plain": [
       "('fairli', 'sportingli')"
      ]
     },
     "execution_count": 19,
     "metadata": {},
     "output_type": "execute_result"
    }
   ],
   "source": [
    "stemmer.stem(\"fairly\"), stemmer.stem(\"sportingly\")"
   ]
  },
  {
   "cell_type": "code",
   "execution_count": 20,
   "metadata": {},
   "outputs": [
    {
     "data": {
      "text/plain": [
       "('fair', 'sport')"
      ]
     },
     "execution_count": 20,
     "metadata": {},
     "output_type": "execute_result"
    }
   ],
   "source": [
    "sb_stemmer.stem(\"fairly\"), sb_stemmer.stem(\"sportingly\")"
   ]
  },
  {
   "cell_type": "code",
   "execution_count": 21,
   "metadata": {},
   "outputs": [
    {
     "data": {
      "text/plain": [
       "'goe'"
      ]
     },
     "execution_count": 21,
     "metadata": {},
     "output_type": "execute_result"
    }
   ],
   "source": [
    "stemmer.stem('goes')"
   ]
  },
  {
   "cell_type": "code",
   "execution_count": 22,
   "metadata": {},
   "outputs": [
    {
     "data": {
      "text/plain": [
       "'goe'"
      ]
     },
     "execution_count": 22,
     "metadata": {},
     "output_type": "execute_result"
    }
   ],
   "source": [
    "sb_stemmer.stem('goes')"
   ]
  },
  {
   "cell_type": "markdown",
   "metadata": {},
   "source": [
    "Performs better than Porter Stemmer, but still fails"
   ]
  },
  {
   "cell_type": "code",
   "execution_count": null,
   "metadata": {},
   "outputs": [],
   "source": []
  },
  {
   "cell_type": "markdown",
   "metadata": {},
   "source": [
    "# Stemming Use Cases\n",
    "\n",
    "Stemming is a crucial step in many Natural Language Processing (NLP) applications. Below are some common use cases where stemming is applied:\n",
    "\n",
    "## 1. **Search Engines and Information Retrieval**\n",
    "   - **Use Case:** Improve search results by matching different forms of a word.\n",
    "   - **Example:** In a search query, the words \"running\", \"runs\", and \"runner\" can all be stemmed to \"run\", allowing the search engine to match documents containing any variation of the term.\n",
    "   - **Benefit:** Reduces the complexity of search algorithms and enhances the recall of relevant documents.\n",
    "\n",
    "## 2. **Text Classification**\n",
    "   - **Use Case:** Simplify text data by converting words to their root forms, which helps to reduce the size of the vocabulary for classifiers.\n",
    "   - **Example:** A sentiment analysis model benefits from stemming because it generalizes terms like \"excited\", \"exciting\", and \"excitedly\" into \"excit\".\n",
    "   - **Benefit:** Improves the accuracy and performance of classification algorithms by reducing noise.\n",
    "\n",
    "## 3. **Natural Language Processing Pipelines**\n",
    "   - **Use Case:** Pre-process large text datasets to normalize word variations.\n",
    "   - **Example:** In topic modeling (e.g., Latent Dirichlet Allocation), stemming reduces vocabulary size, enhancing the model's ability to group related terms together.\n",
    "   - **Benefit:** Efficiently processes text for downstream tasks like entity recognition or machine translation.\n",
    "\n",
    "## 4. **Content Recommendation Systems**\n",
    "   - **Use Case:** Increase the relevance of recommended content by unifying different word forms.\n",
    "   - **Example:** In e-commerce, stemming helps recommend products related to search terms like \"buy\", \"bought\", or \"buying\", all stemming to \"buy\".\n",
    "   - **Benefit:** Ensures more accurate matching and improves the relevance of recommendations.\n",
    "\n",
    "## 5. **Question Answering Systems**\n",
    "   - **Use Case:** Enhance the ability to find answers by stemming query terms to their root form.\n",
    "   - **Example:** A user asking \"What is the definition of computing?\" will have a better chance of receiving an answer that also includes variations like \"compute\", \"computed\", and \"computer\".\n",
    "   - **Benefit:** Increases the coverage and accuracy of the answers returned by the system.\n",
    "\n",
    "## 6. **Plagiarism Detection**\n",
    "   - **Use Case:** Identify paraphrased content by reducing words to their base form for comparison.\n",
    "   - **Example:** \"Plagiarism\" and \"plagiarized\" can be stemmed to the root form \"plagiari\", helping to detect similar content in different forms.\n",
    "   - **Benefit:** Improves detection by focusing on conceptual similarity rather than exact word matching.\n",
    "\n",
    "## 7. **Spam Detection**\n",
    "   - **Use Case:** Normalize variations in word forms to identify spam messages effectively.\n",
    "   - **Example:** Words like \"earn\", \"earning\", and \"earned\" can be reduced to \"earn\" in order to more easily flag spam messages offering quick earnings.\n",
    "   - **Benefit:** Reduces false negatives and improves the precision of spam filters.\n",
    "\n",
    "## 8. **Opinion Mining and Sentiment Analysis**\n",
    "   - **Use Case:** Stemming helps in identifying sentiments related to different forms of words that share the same base meaning.\n",
    "   - **Example:** Words like \"happy\", \"happily\", and \"happiness\" can all be stemmed to \"happi\", improving the analysis of sentiments in user reviews.\n",
    "   - **Benefit:** Provides better generalization across different forms of expression in sentiment analysis models.\n",
    "\n",
    "## 9. **Machine Translation**\n",
    "   - **Use Case:** Simplify the translation process by reducing words to their root forms before translating.\n",
    "   - **Example:** In translating between languages, stemming helps reduce ambiguity by simplifying terms like \"translated\", \"translating\", and \"translates\" into \"translat\".\n",
    "   - **Benefit:** Increases the efficiency and accuracy of the translation model.\n",
    "\n",
    "## 10. **Document Summarization**\n",
    "   - **Use Case:** Summarization models benefit from stemming by generalizing word forms, which helps in identifying key points.\n",
    "   - **Example:** The words \"analyze\", \"analyzed\", and \"analyzing\" can be stemmed to \"analyz\", ensuring better extraction of relevant information.\n",
    "   - **Benefit:** Reduces redundancy and improves the clarity of summarized text.\n",
    "\n"
   ]
  },
  {
   "cell_type": "markdown",
   "metadata": {},
   "source": []
  }
 ],
 "metadata": {
  "kernelspec": {
   "display_name": "env",
   "language": "python",
   "name": "python3"
  },
  "language_info": {
   "codemirror_mode": {
    "name": "ipython",
    "version": 3
   },
   "file_extension": ".py",
   "mimetype": "text/x-python",
   "name": "python",
   "nbconvert_exporter": "python",
   "pygments_lexer": "ipython3",
   "version": "3.10.11"
  }
 },
 "nbformat": 4,
 "nbformat_minor": 2
}
