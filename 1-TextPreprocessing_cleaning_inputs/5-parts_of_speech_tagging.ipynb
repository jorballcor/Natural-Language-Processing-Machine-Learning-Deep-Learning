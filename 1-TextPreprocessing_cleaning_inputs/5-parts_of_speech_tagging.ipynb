{
 "cells": [
  {
   "cell_type": "markdown",
   "metadata": {},
   "source": [
    "# Part-of-Speech (POS) Tagging - Text Preprocessing\n",
    "\n",
    "**Context**: In Natural Language Processing (NLP), Part-of-Speech (POS) tagging refers to the process of labeling each word in a sentence with its corresponding part of speech. The tags help define the grammatical function of each word. For English, the most common tag set is the **Penn Treebank Tag Set**, which includes around 36 POS tags.\n",
    "\n",
    "---\n",
    "\n",
    "## Most Commonly Used POS Tags in English\n",
    "\n",
    "### 1. **Nouns (NN)**\n",
    "- **NN**: Singular or mass noun  \n",
    "  *Examples*: \"dog\", \"car\"\n",
    "- **NNS**: Plural noun  \n",
    "  *Examples*: \"dogs\", \"cars\"\n",
    "- **NNP**: Proper noun, singular  \n",
    "  *Examples*: \"John\", \"Paris\"\n",
    "- **NNPS**: Proper noun, plural  \n",
    "  *Examples*: \"Americans\", \"Sundays\"\n",
    "\n",
    "---\n",
    "\n",
    "### 2. **Pronouns**\n",
    "- **PRP**: Personal pronoun  \n",
    "  *Examples*: \"I\", \"you\", \"he\"\n",
    "- **PRP$**: Possessive pronoun  \n",
    "  *Examples*: \"my\", \"your\", \"her\"\n",
    "\n",
    "---\n",
    "\n",
    "### 3. **Verbs (VB)**\n",
    "- **VB**: Base form verb  \n",
    "  *Examples*: \"run\", \"eat\"\n",
    "- **VBD**: Past tense verb  \n",
    "  *Examples*: \"ran\", \"ate\"\n",
    "- **VBG**: Present participle/gerund  \n",
    "  *Examples*: \"running\", \"eating\"\n",
    "- **VBN**: Past participle  \n",
    "  *Examples*: \"eaten\", \"driven\"\n",
    "- **VBP**: Non-3rd person singular present  \n",
    "  *Examples*: \"run\", \"eat\" (for I/we/you/they)\n",
    "- **VBZ**: 3rd person singular present  \n",
    "  *Examples*: \"runs\", \"eats\" (for he/she/it)\n",
    "\n",
    "---\n",
    "\n",
    "### 4. **Adjectives (JJ)**\n",
    "- **JJ**: Adjective  \n",
    "  *Examples*: \"big\", \"happy\"\n",
    "- **JJR**: Comparative adjective  \n",
    "  *Examples*: \"bigger\", \"happier\"\n",
    "- **JJS**: Superlative adjective  \n",
    "  *Examples*: \"biggest\", \"happiest\"\n",
    "\n",
    "---\n",
    "\n",
    "### 5. **Adverbs (RB)**\n",
    "- **RB**: Adverb  \n",
    "  *Examples*: \"quickly\", \"well\"\n",
    "- **RBR**: Comparative adverb  \n",
    "  *Examples*: \"faster\", \"better\"\n",
    "- **RBS**: Superlative adverb  \n",
    "  *Examples*: \"fastest\", \"best\"\n",
    "\n",
    "---\n",
    "\n",
    "### 6. **Determiners**\n",
    "- **DT**: Determiner  \n",
    "  *Examples*: \"the\", \"a\", \"an\"\n",
    "- **PDT**: Predeterminer  \n",
    "  *Examples*: \"all\", \"both\"\n",
    "- **WDT**: Wh-determiner  \n",
    "  *Examples*: \"which\", \"whatever\"\n",
    "\n",
    "---\n",
    "\n",
    "### 7. **Conjunctions**\n",
    "- **CC**: Coordinating conjunction  \n",
    "  *Examples*: \"and\", \"but\", \"or\"\n",
    "- **IN**: Preposition or subordinating conjunction  \n",
    "  *Examples*: \"in\", \"on\", \"because\"\n",
    "\n",
    "---\n",
    "\n",
    "### 8. **Particles**\n",
    "- **RP**: Particle  \n",
    "  *Examples*: \"off\", \"up\" (as in \"gave up\")\n",
    "\n",
    "---\n",
    "\n",
    "### 9. **Modals (MD)**\n",
    "- **MD**: Modal auxiliary verb  \n",
    "  *Examples*: \"can\", \"should\", \"might\"\n",
    "\n",
    "---\n",
    "\n",
    "### 10. **Possessives**\n",
    "- **POS**: Possessive ending  \n",
    "  *Example*: \"'s\"\n",
    "\n",
    "---\n",
    "\n",
    "### 11. **Numbers**\n",
    "- **CD**: Cardinal number  \n",
    "  *Examples*: \"one\", \"two\", \"3\"\n",
    "\n",
    "---\n",
    "\n",
    "### 12. **Existential**\n",
    "- **EX**: Existential \"there\"  \n",
    "  *Example*: \"There is a dog.\"\n",
    "\n",
    "---\n",
    "\n",
    "### 13. **Wh-words**\n",
    "- **WP**: Wh-pronoun  \n",
    "  *Examples*: \"who\", \"what\"\n",
    "- **WP$**: Possessive wh-pronoun  \n",
    "  *Example*: \"whose\"\n",
    "- **WRB**: Wh-adverb  \n",
    "  *Examples*: \"where\", \"when\"\n",
    "\n",
    "---\n",
    "\n",
    "### 14. **Punctuation**\n",
    "- **.**: Sentence-final punctuation  \n",
    "  *Examples*: \".\", \"!\", \"?\"\n",
    "- **,**: Comma\n",
    "- **:**: Colon, semicolon\n",
    "- **\"**: Quotation marks\n",
    "- **(`)**: Opening parenthesis\n",
    "- **)**: Closing parenthesis\n",
    "\n",
    "---\n",
    "\n",
    "### 15. **Others**\n",
    "- **TO**: \"to\" as a preposition or infinitive marker\n",
    "- **UH**: Interjection  \n",
    "  *Examples*: \"uh\", \"wow\"\n",
    "\n",
    "---\n",
    "\n",
    "These tags allow NLP models to understand the syntactic structure of sentences and aid in tasks like parsing, sentiment analysis, and machine translation.\n"
   ]
  },
  {
   "cell_type": "code",
   "execution_count": 7,
   "metadata": {},
   "outputs": [],
   "source": [
    "import nltk"
   ]
  },
  {
   "cell_type": "code",
   "execution_count": 8,
   "metadata": {},
   "outputs": [],
   "source": [
    "## Speech Of DR APJ Abdul Kalam\n",
    "corpus = \"\"\"I have three visions for India. In 3000 years of our history, people from all over \n",
    "               the world have come and invaded us, captured our lands, conquered our minds. \n",
    "               From Alexander onwards, the Greeks, the Turks, the Moguls, the Portuguese, the British,\n",
    "               the French, the Dutch, all of them came and looted us, took over what was ours. \n",
    "               Yet we have not done this to any other nation. We have not conquered anyone. \n",
    "               We have not grabbed their land, their culture, \n",
    "               their history and tried to enforce our way of life on them. \n",
    "               Why? Because we respect the freedom of others.That is why my \n",
    "               first vision is that of freedom. I believe that India got its first vision of \n",
    "               this in 1857, when we started the War of Independence. It is this freedom that\n",
    "               we must protect and nurture and build on. If we are not free, no one will respect us.\n",
    "               My second vision for India’s development. For fifty years we have been a developing nation.\n",
    "               It is time we see ourselves as a developed nation. We are among the top 5 nations of the world\n",
    "               in terms of GDP. We have a 10 percent growth rate in most areas. Our poverty levels are falling.\n",
    "               Our achievements are being globally recognised today. Yet we lack the self-confidence to\n",
    "               see ourselves as a developed nation, self-reliant and self-assured. Isn’t this incorrect?\n",
    "               I have a third vision. India must stand up to the world. Because I believe that unless India \n",
    "               stands up to the world, no one will respect us. Only strength respects strength. We must be \n",
    "               strong not only as a military power but also as an economic power. Both must go hand-in-hand. \n",
    "               My good fortune was to have worked with three great minds. Dr. Vikram Sarabhai of the Dept. of \n",
    "               space, Professor Satish Dhawan, who succeeded him and Dr. Brahm Prakash, father of nuclear material.\n",
    "               I was lucky to have worked with all three of them closely and consider this the great opportunity of my life. \n",
    "               I see four milestones in my career\"\"\""
   ]
  },
  {
   "cell_type": "markdown",
   "metadata": {},
   "source": [
    "Here we will focus on *stopwords*, so that we can split the corpus paragraph into sentences"
   ]
  },
  {
   "cell_type": "code",
   "execution_count": 4,
   "metadata": {},
   "outputs": [],
   "source": [
    "from nltk.corpus import stopwords\n",
    "sentences=nltk.sent_tokenize(paragraph)"
   ]
  },
  {
   "cell_type": "code",
   "execution_count": 5,
   "metadata": {},
   "outputs": [
    {
     "data": {
      "text/plain": [
       "['I have three visions for India.',\n",
       " 'In 3000 years of our history, people from all over \\n               the world have come and invaded us, captured our lands, conquered our minds.',\n",
       " 'From Alexander onwards, the Greeks, the Turks, the Moguls, the Portuguese, the British,\\n               the French, the Dutch, all of them came and looted us, took over what was ours.',\n",
       " 'Yet we have not done this to any other nation.',\n",
       " 'We have not conquered anyone.',\n",
       " 'We have not grabbed their land, their culture, \\n               their history and tried to enforce our way of life on them.',\n",
       " 'Why?',\n",
       " 'Because we respect the freedom of others.That is why my \\n               first vision is that of freedom.',\n",
       " 'I believe that India got its first vision of \\n               this in 1857, when we started the War of Independence.',\n",
       " 'It is this freedom that\\n               we must protect and nurture and build on.',\n",
       " 'If we are not free, no one will respect us.',\n",
       " 'My second vision for India’s development.',\n",
       " 'For fifty years we have been a developing nation.',\n",
       " 'It is time we see ourselves as a developed nation.',\n",
       " 'We are among the top 5 nations of the world\\n               in terms of GDP.',\n",
       " 'We have a 10 percent growth rate in most areas.',\n",
       " 'Our poverty levels are falling.',\n",
       " 'Our achievements are being globally recognised today.',\n",
       " 'Yet we lack the self-confidence to\\n               see ourselves as a developed nation, self-reliant and self-assured.',\n",
       " 'Isn’t this incorrect?',\n",
       " 'I have a third vision.',\n",
       " 'India must stand up to the world.',\n",
       " 'Because I believe that unless India \\n               stands up to the world, no one will respect us.',\n",
       " 'Only strength respects strength.',\n",
       " 'We must be \\n               strong not only as a military power but also as an economic power.',\n",
       " 'Both must go hand-in-hand.',\n",
       " 'My good fortune was to have worked with three great minds.',\n",
       " 'Dr. Vikram Sarabhai of the Dept.',\n",
       " 'of \\n               space, Professor Satish Dhawan, who succeeded him and Dr. Brahm Prakash, father of nuclear material.',\n",
       " 'I was lucky to have worked with all three of them closely and consider this the great opportunity of my life.',\n",
       " 'I see four milestones in my career']"
      ]
     },
     "execution_count": 5,
     "metadata": {},
     "output_type": "execute_result"
    }
   ],
   "source": [
    "sentences"
   ]
  },
  {
   "cell_type": "code",
   "execution_count": 11,
   "metadata": {},
   "outputs": [
    {
     "name": "stderr",
     "output_type": "stream",
     "text": [
      "[nltk_data] Downloading package averaged_perceptron_tagger_eng to\n",
      "[nltk_data]     C:\\Users\\bleew\\AppData\\Roaming\\nltk_data...\n",
      "[nltk_data]   Unzipping taggers\\averaged_perceptron_tagger_eng.zip.\n"
     ]
    },
    {
     "data": {
      "text/plain": [
       "True"
      ]
     },
     "execution_count": 11,
     "metadata": {},
     "output_type": "execute_result"
    }
   ],
   "source": [
    "nltk.download('averaged_perceptron_tagger_eng')"
   ]
  },
  {
   "cell_type": "code",
   "execution_count": 12,
   "metadata": {},
   "outputs": [
    {
     "name": "stdout",
     "output_type": "stream",
     "text": [
      "[('I', 'PRP'), ('three', 'CD'), ('visions', 'NNS'), ('India', 'NNP'), ('.', '.')]\n",
      "[('In', 'IN'), ('3000', 'CD'), ('years', 'NNS'), ('history', 'NN'), (',', ','), ('people', 'NNS'), ('world', 'NN'), ('come', 'VBP'), ('invaded', 'VBN'), ('us', 'PRP'), (',', ','), ('captured', 'VBD'), ('lands', 'NNS'), (',', ','), ('conquered', 'VBD'), ('minds', 'NNS'), ('.', '.')]\n",
      "[('From', 'IN'), ('Alexander', 'NNP'), ('onwards', 'NNS'), (',', ','), ('Greeks', 'NNP'), (',', ','), ('Turks', 'NNP'), (',', ','), ('Moguls', 'NNP'), (',', ','), ('Portuguese', 'NNP'), (',', ','), ('British', 'NNP'), (',', ','), ('French', 'NNP'), (',', ','), ('Dutch', 'NNP'), (',', ','), ('came', 'VBD'), ('looted', 'JJ'), ('us', 'PRP'), (',', ','), ('took', 'VBD'), ('.', '.')]\n",
      "[('Yet', 'RB'), ('done', 'VBN'), ('nation', 'NN'), ('.', '.')]\n",
      "[('We', 'PRP'), ('conquered', 'VBD'), ('anyone', 'NN'), ('.', '.')]\n",
      "[('We', 'PRP'), ('grabbed', 'VBD'), ('land', 'NN'), (',', ','), ('culture', 'NN'), (',', ','), ('history', 'NN'), ('tried', 'VBD'), ('enforce', 'JJ'), ('way', 'NN'), ('life', 'NN'), ('.', '.')]\n",
      "[('Why', 'WRB'), ('?', '.')]\n",
      "[('Because', 'IN'), ('respect', 'NN'), ('freedom', 'NN'), ('others.That', 'IN'), ('first', 'JJ'), ('vision', 'NN'), ('freedom', 'NN'), ('.', '.')]\n",
      "[('I', 'PRP'), ('believe', 'VBP'), ('India', 'NNP'), ('got', 'VBD'), ('first', 'JJ'), ('vision', 'NN'), ('1857', 'CD'), (',', ','), ('started', 'VBD'), ('War', 'NNP'), ('Independence', 'NNP'), ('.', '.')]\n",
      "[('It', 'PRP'), ('freedom', 'NN'), ('must', 'MD'), ('protect', 'VB'), ('nurture', 'NN'), ('build', 'NN'), ('.', '.')]\n",
      "[('If', 'IN'), ('free', 'JJ'), (',', ','), ('one', 'CD'), ('respect', 'NN'), ('us', 'PRP'), ('.', '.')]\n",
      "[('My', 'PRP$'), ('second', 'JJ'), ('vision', 'NN'), ('India', 'NNP'), ('’', 'NNP'), ('development', 'NN'), ('.', '.')]\n",
      "[('For', 'IN'), ('fifty', 'JJ'), ('years', 'NNS'), ('developing', 'VBG'), ('nation', 'NN'), ('.', '.')]\n",
      "[('It', 'PRP'), ('time', 'NN'), ('see', 'VB'), ('developed', 'JJ'), ('nation', 'NN'), ('.', '.')]\n",
      "[('We', 'PRP'), ('among', 'IN'), ('top', 'JJ'), ('5', 'CD'), ('nations', 'NNS'), ('world', 'NN'), ('terms', 'NNS'), ('GDP', 'NNP'), ('.', '.')]\n",
      "[('We', 'PRP'), ('10', 'CD'), ('percent', 'JJ'), ('growth', 'NN'), ('rate', 'NN'), ('areas', 'NNS'), ('.', '.')]\n",
      "[('Our', 'PRP$'), ('poverty', 'NN'), ('levels', 'NNS'), ('falling', 'VBG'), ('.', '.')]\n",
      "[('Our', 'PRP$'), ('achievements', 'NNS'), ('globally', 'RB'), ('recognised', 'VBN'), ('today', 'NN'), ('.', '.')]\n",
      "[('Yet', 'RB'), ('lack', 'JJ'), ('self-confidence', 'NN'), ('see', 'NN'), ('developed', 'JJ'), ('nation', 'NN'), (',', ','), ('self-reliant', 'JJ'), ('self-assured', 'JJ'), ('.', '.')]\n",
      "[('Isn', 'NNP'), ('’', 'NNP'), ('incorrect', 'NN'), ('?', '.')]\n",
      "[('I', 'PRP'), ('third', 'JJ'), ('vision', 'NN'), ('.', '.')]\n",
      "[('India', 'NNP'), ('must', 'MD'), ('stand', 'VB'), ('world', 'NN'), ('.', '.')]\n",
      "[('Because', 'IN'), ('I', 'PRP'), ('believe', 'VBP'), ('unless', 'IN'), ('India', 'NNP'), ('stands', 'VBZ'), ('world', 'NN'), (',', ','), ('one', 'CD'), ('respect', 'NN'), ('us', 'PRP'), ('.', '.')]\n",
      "[('Only', 'RB'), ('strength', 'NN'), ('respects', 'NNS'), ('strength', 'NN'), ('.', '.')]\n",
      "[('We', 'PRP'), ('must', 'MD'), ('strong', 'JJ'), ('military', 'JJ'), ('power', 'NN'), ('also', 'RB'), ('economic', 'JJ'), ('power', 'NN'), ('.', '.')]\n",
      "[('Both', 'DT'), ('must', 'MD'), ('go', 'VB'), ('hand-in-hand', 'NN'), ('.', '.')]\n",
      "[('My', 'PRP$'), ('good', 'JJ'), ('fortune', 'NN'), ('worked', 'VBD'), ('three', 'CD'), ('great', 'JJ'), ('minds', 'NNS'), ('.', '.')]\n",
      "[('Dr.', 'NNP'), ('Vikram', 'NNP'), ('Sarabhai', 'NNP'), ('Dept', 'NNP'), ('.', '.')]\n",
      "[('space', 'NN'), (',', ','), ('Professor', 'NNP'), ('Satish', 'NNP'), ('Dhawan', 'NNP'), (',', ','), ('succeeded', 'VBD'), ('Dr.', 'NNP'), ('Brahm', 'NNP'), ('Prakash', 'NNP'), (',', ','), ('father', 'RB'), ('nuclear', 'JJ'), ('material', 'NN'), ('.', '.')]\n",
      "[('I', 'PRP'), ('lucky', 'VBP'), ('worked', 'VBD'), ('three', 'CD'), ('closely', 'RB'), ('consider', 'VBP'), ('great', 'JJ'), ('opportunity', 'NN'), ('life', 'NN'), ('.', '.')]\n",
      "[('I', 'PRP'), ('see', 'VBP'), ('four', 'CD'), ('milestones', 'NNS'), ('career', 'NN')]\n"
     ]
    }
   ],
   "source": [
    "## We will find the Pos Tag\n",
    "\n",
    "for i in range(len(sentences)):\n",
    "    words=nltk.word_tokenize(sentences[i])\n",
    "    words=[word for word in words if word not in set(stopwords.words('english'))]\n",
    "    pos_tag=nltk.pos_tag(words)\n",
    "    print(pos_tag)"
   ]
  },
  {
   "cell_type": "markdown",
   "metadata": {},
   "source": [
    "See that for simple phrases, split() function can work for tagging tasks"
   ]
  },
  {
   "cell_type": "code",
   "execution_count": 15,
   "metadata": {},
   "outputs": [
    {
     "data": {
      "text/plain": [
       "['Plato', 'was', 'one', 'of', 'the', 'greatest', 'philosophers', 'ever']"
      ]
     },
     "execution_count": 15,
     "metadata": {},
     "output_type": "execute_result"
    }
   ],
   "source": [
    " \"Plato was one of the greatest philosophers ever\".split()"
   ]
  },
  {
   "cell_type": "code",
   "execution_count": 16,
   "metadata": {},
   "outputs": [
    {
     "name": "stdout",
     "output_type": "stream",
     "text": [
      "[('Plato', 'NNP'), ('was', 'VBD'), ('one', 'CD'), ('of', 'IN'), ('the', 'DT'), ('greatest', 'JJS'), ('philosophers', 'NNS'), ('ever', 'RB')]\n"
     ]
    }
   ],
   "source": [
    "print(nltk.pos_tag(\"Plato was one of the greatest philosophers ever\".split()))"
   ]
  },
  {
   "cell_type": "markdown",
   "metadata": {},
   "source": [
    "Explore other examples"
   ]
  },
  {
   "cell_type": "code",
   "execution_count": 29,
   "metadata": {},
   "outputs": [],
   "source": [
    "examples = [\n",
    "    \"Although the weather was cold and rainy, we decided to go hiking because we had been looking forward to it for weeks.\",\n",
    "    \"She finished her report after she had received feedback from her manager, but the project still required additional revisions.\",\n",
    "    \"If you study hard and consistently, you will likely pass the exam, even though it covers a wide range of difficult topics.\",\n",
    "    \"The restaurant, which had been closed for renovations, finally reopened last weekend, and the new menu surprised many regular customers.\",\n",
    "    \"Because the train was delayed for over an hour, many passengers missed their connecting flights, causing frustration and confusion at the airport.\"\n",
    "]"
   ]
  },
  {
   "cell_type": "code",
   "execution_count": 33,
   "metadata": {},
   "outputs": [
    {
     "name": "stdout",
     "output_type": "stream",
     "text": [
      "Word                POS Tag   \n",
      "------------------------------\n",
      "Although            IN        \n",
      "the                 DT        \n",
      "weather             NN        \n",
      "was                 VBD       \n",
      "cold                JJ        \n",
      "and                 CC        \n",
      "rainy,              NN        \n",
      "we                  PRP       \n",
      "decided             VBD       \n",
      "to                  TO        \n",
      "go                  VB        \n",
      "hiking              NN        \n",
      "because             IN        \n",
      "we                  PRP       \n",
      "had                 VBD       \n",
      "been                VBN       \n",
      "looking             VBG       \n",
      "forward             RB        \n",
      "to                  TO        \n",
      "it                  PRP       \n",
      "for                 IN        \n",
      "weeks.              NN        \n",
      "\n",
      "\n"
     ]
    }
   ],
   "source": [
    "pos_tags = nltk.pos_tag(examples[0].split())\n",
    "\n",
    "# Print in columns (Word | POS Tag)\n",
    "print(f\"{'Word':<20}{'POS Tag':<10}\")  # Headers with alignment\n",
    "print(\"-\" * 30)\n",
    "for word, tag in pos_tags:\n",
    "    print(f\"{word:<20}{tag:<10}\")  # Align word and tag\n",
    "print(\"\\n\")"
   ]
  }
 ],
 "metadata": {
  "kernelspec": {
   "display_name": "env",
   "language": "python",
   "name": "python3"
  },
  "language_info": {
   "codemirror_mode": {
    "name": "ipython",
    "version": 3
   },
   "file_extension": ".py",
   "mimetype": "text/x-python",
   "name": "python",
   "nbconvert_exporter": "python",
   "pygments_lexer": "ipython3",
   "version": "3.10.11"
  }
 },
 "nbformat": 4,
 "nbformat_minor": 2
}
