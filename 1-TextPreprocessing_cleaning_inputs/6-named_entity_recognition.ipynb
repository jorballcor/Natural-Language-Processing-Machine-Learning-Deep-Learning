{
 "cells": [
  {
   "cell_type": "markdown",
   "metadata": {},
   "source": [
    "# Named Entity Recognition (NER) in Natural Language Processing\n",
    "\n",
    "**Context**:  \n",
    "Named Entity Recognition (NER) is the process of identifying and classifying named entities mentioned in unstructured text into predefined categories. These categories usually represent proper nouns and other specific elements relevant to the context of the text. NER is a critical component of many NLP applications, providing structured data from raw text by identifying the following common types of entities:\n",
    "\n",
    "- **Person**: Names of individuals (e.g., \"Albert Einstein\", \"Marie Curie\")\n",
    "- **Organization**: Names of companies, institutions, or groups (e.g., \"Google\", \"United Nations\")\n",
    "- **Location**: Geographical entities such as cities, countries, or landmarks (e.g., \"Paris\", \"Mount Everest\")\n",
    "- **Date**: Expressions related to dates or time (e.g., \"April 23, 2021\", \"yesterday\")\n",
    "- **Monetary Value**: Financial amounts (e.g., \"$1000\", \"€50\")\n",
    "- **Percentages**: Percent values (e.g., \"50%\", \"70% increase\")\n",
    "- **Miscellaneous**: Any other domain-specific entity types (e.g., product names, legal terms, etc.)\n",
    "\n",
    "## Importance of NER\n",
    "NER helps convert raw, unstructured text into structured data that can be more easily processed by algorithms. The output of an NER system typically includes the original word or phrase, along with its classification as a specific type of entity. Here are some of the main use cases:\n",
    "- **Information extraction**: Summarizing key facts from large corpora of text.\n",
    "- **Question-answering systems**: Identifying relevant entities to provide more accurate answers.\n",
    "- **Content recommendation**: Extracting keywords and entities from articles or social media posts to improve recommendations.\n",
    "- **Document categorization**: Automatically classifying documents by extracting the most relevant entities.\n",
    "\n",
    "## Challenges in NER\n",
    "NER faces several challenges, including:\n",
    "- **Ambiguity**: Many words or phrases can have multiple meanings depending on context. For example, \"Apple\" could refer to the fruit or the company.\n",
    "- **Domain Adaptation**: NER models trained in one domain (e.g., news articles) may not perform well in another domain (e.g., medical texts) without additional training.\n",
    "- **Language and Cultural Variations**: NER systems need to handle different languages, writing styles, and cultural naming conventions effectively.\n",
    "\n",
    "## NER Techniques\n",
    "NER can be approached in several ways:\n",
    "- **Rule-Based Approaches**: Use manually created rules, such as regular expressions or gazetteers (lists of entity names), to identify entities.\n",
    "- **Machine Learning Approaches**: Train classifiers like Conditional Random Fields (CRFs) or Support Vector Machines (SVMs) on annotated data.\n",
    "- **Deep Learning Approaches**: Leverage models such as Recurrent Neural Networks (RNNs), Long Short-Term Memory networks (LSTMs), or Transformers (e.g., BERT) to automatically learn features from large datasets.\n",
    "\n",
    "## Example of NER\n",
    "Given a sentence:\n",
    "> \"Barack Obama was born in Hawaii and served as the President of the United States.\"\n",
    "\n",
    "An NER system would extract and classify:\n",
    "- **Barack Obama** → Person\n",
    "- **Hawaii** → Location\n",
    "- **President of the United States** → Title/Position\n",
    "\n",
    "## Libraries and Tools\n",
    "Several NLP libraries provide out-of-the-box NER functionalities:\n",
    "- **spaCy**: A fast and efficient library with pre-trained models for NER.\n",
    "- **NLTK**: Provides tools for training and using NER models.\n",
    "- **Stanford NER**: A popular Java-based tool that can be used for NER in various languages.\n",
    "- **Hugging Face Transformers**: Provides state-of-the-art transformer models (e.g., BERT, RoBERTa) that can be fine-tuned for NER tasks.\n",
    "\n",
    "## Conclusion\n",
    "NER is a vital task in transforming unstructured text into structured information. Its applications across industries like healthcare, finance, and legal systems make it a foundational tool in extracting key information and driving insights from large volumes of text data.\n"
   ]
  },
  {
   "cell_type": "markdown",
   "metadata": {},
   "source": [
    "## Example down below"
   ]
  },
  {
   "cell_type": "code",
   "execution_count": 1,
   "metadata": {},
   "outputs": [],
   "source": [
    "sentence=\"The Eiffel Tower was built from 1887 to 1889 by Gustave Eiffel, whose company specialized in building metal frameworks and structures.\"\n"
   ]
  },
  {
   "cell_type": "code",
   "execution_count": 2,
   "metadata": {},
   "outputs": [],
   "source": [
    "import nltk\n",
    "words=nltk.word_tokenize(sentence)"
   ]
  },
  {
   "cell_type": "code",
   "execution_count": 3,
   "metadata": {},
   "outputs": [
    {
     "name": "stderr",
     "output_type": "stream",
     "text": [
      "[nltk_data] Downloading package maxent_ne_chunker_tab to\n",
      "[nltk_data]     C:\\Users\\bleew\\AppData\\Roaming\\nltk_data...\n",
      "[nltk_data]   Package maxent_ne_chunker_tab is already up-to-date!\n"
     ]
    },
    {
     "data": {
      "text/plain": [
       "True"
      ]
     },
     "execution_count": 3,
     "metadata": {},
     "output_type": "execute_result"
    }
   ],
   "source": [
    "tag_elements=nltk.pos_tag(words)\n",
    "nltk.download('maxent_ne_chunker_tab')"
   ]
  },
  {
   "cell_type": "code",
   "execution_count": 4,
   "metadata": {},
   "outputs": [
    {
     "name": "stderr",
     "output_type": "stream",
     "text": [
      "[nltk_data] Downloading package words to\n",
      "[nltk_data]     C:\\Users\\bleew\\AppData\\Roaming\\nltk_data...\n",
      "[nltk_data]   Package words is already up-to-date!\n"
     ]
    },
    {
     "data": {
      "text/plain": [
       "True"
      ]
     },
     "execution_count": 4,
     "metadata": {},
     "output_type": "execute_result"
    }
   ],
   "source": [
    "nltk.download('words')"
   ]
  },
  {
   "cell_type": "code",
   "execution_count": 5,
   "metadata": {},
   "outputs": [],
   "source": [
    "nltk.ne_chunk(tag_elements).draw()"
   ]
  },
  {
   "cell_type": "code",
   "execution_count": null,
   "metadata": {},
   "outputs": [],
   "source": []
  }
 ],
 "metadata": {
  "kernelspec": {
   "display_name": "env",
   "language": "python",
   "name": "python3"
  },
  "language_info": {
   "codemirror_mode": {
    "name": "ipython",
    "version": 3
   },
   "file_extension": ".py",
   "mimetype": "text/x-python",
   "name": "python",
   "nbconvert_exporter": "python",
   "pygments_lexer": "ipython3",
   "version": "3.10.11"
  }
 },
 "nbformat": 4,
 "nbformat_minor": 2
}
